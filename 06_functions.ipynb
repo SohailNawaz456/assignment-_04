{
  "nbformat": 4,
  "nbformat_minor": 0,
  "metadata": {
    "colab": {
      "provenance": [],
      "authorship_tag": "ABX9TyPzJKpLBvImmAlodn+3AE+I",
      "include_colab_link": true
    },
    "kernelspec": {
      "name": "python3",
      "display_name": "Python 3"
    },
    "language_info": {
      "name": "python"
    }
  },
  "cells": [
    {
      "cell_type": "markdown",
      "metadata": {
        "id": "view-in-github",
        "colab_type": "text"
      },
      "source": [
        "<a href=\"https://colab.research.google.com/github/SohailNawaz456/assignment-_04/blob/main/06_functions.ipynb\" target=\"_parent\"><img src=\"https://colab.research.google.com/assets/colab-badge.svg\" alt=\"Open In Colab\"/></a>"
      ]
    },
    {
      "cell_type": "code",
      "execution_count": 2,
      "metadata": {
        "colab": {
          "base_uri": "https://localhost:8080/"
        },
        "id": "pVtaUVArFInL",
        "outputId": "69b19957-2602-4641-c8b1-95804ba989b7"
      },
      "outputs": [
        {
          "output_type": "stream",
          "name": "stdout",
          "text": [
            "00_averages\n",
            "Enter numbers separated by commas:\n",
            "→ 34,98\n",
            "✅ Average of the given numbers: 66.00\n"
          ]
        }
      ],
      "source": [
        "print(\"00_averages\")\n",
        "def calculate_average(numbers):\n",
        "    if not numbers:\n",
        "        return 0\n",
        "    return sum(numbers) / len(numbers)\n",
        "\n",
        "def main():\n",
        "    print(\"Enter numbers separated by commas:\")\n",
        "    user_input = input(\"→ \")\n",
        "\n",
        "    # Convert string input to list of numbers\n",
        "    try:\n",
        "        number_list = [float(num.strip()) for num in user_input.split(\",\")]\n",
        "    except ValueError:\n",
        "        print(\"❌ Invalid input! Please enter valid numbers separated by commas.\")\n",
        "        return\n",
        "\n",
        "    avg = calculate_average(number_list)\n",
        "    print(f\"✅ Average of the given numbers: {avg:.2f}\")\n",
        "\n",
        "if __name__ == \"__main__\":\n",
        "    main()"
      ]
    },
    {
      "cell_type": "code",
      "source": [
        "import random\n",
        "import time\n",
        "\n",
        "print(\"01_chaotic_countin\")\n",
        "def chaotic_counting(start, end, delay=0.5):\n",
        "    numbers = list(range(start, end + 1))\n",
        "    random.shuffle(numbers)  # Random order\n",
        "\n",
        "    print(\"🤪 Chaotic Counting Begins!\")\n",
        "    for number in numbers:\n",
        "        print(number)\n",
        "        time.sleep(delay)  # Small delay for effect\n",
        "    print(\"🎉 Done with chaotic counting!\")\n",
        "\n",
        "def main():\n",
        "    print(\"Enter start and end numbers for chaotic counting.\")\n",
        "    try:\n",
        "        start = int(input(\"Start → \"))\n",
        "        end = int(input(\"End → \"))\n",
        "\n",
        "        if start > end:\n",
        "            print(\"❌ Start should be less than or equal to end!\")\n",
        "            return\n",
        "\n",
        "        chaotic_counting(start, end)\n",
        "    except ValueError:\n",
        "        print(\"❌ Invalid input! Please enter integers only.\")\n",
        "\n",
        "if __name__ == \"__main__\":\n",
        "    main()"
      ],
      "metadata": {
        "colab": {
          "base_uri": "https://localhost:8080/"
        },
        "id": "8zMQn5mfIPQp",
        "outputId": "8f062d3f-74f9-4a53-816b-a860e89d76dd"
      },
      "execution_count": 4,
      "outputs": [
        {
          "output_type": "stream",
          "name": "stdout",
          "text": [
            "01_chaotic_countin\n",
            "Enter start and end numbers for chaotic counting.\n",
            "Start → 0\n",
            "End → 1\n",
            "🤪 Chaotic Counting Begins!\n",
            "1\n",
            "0\n",
            "🎉 Done with chaotic counting!\n"
          ]
        }
      ]
    },
    {
      "cell_type": "code",
      "source": [
        "print(\"02_count_even\")\n",
        "def count_even_numbers(numbers):\n",
        "    even_numbers = [num for num in numbers if num % 2 == 0]\n",
        "    return len(even_numbers), even_numbers\n",
        "\n",
        "def main():\n",
        "    print(\"Enter numbers separated by commas:\")\n",
        "    user_input = input(\"→ \")\n",
        "\n",
        "    try:\n",
        "        number_list = [int(num.strip()) for num in user_input.split(\",\")]\n",
        "    except ValueError:\n",
        "        print(\"❌ Invalid input! Please enter integers only.\")\n",
        "        return\n",
        "\n",
        "    count, evens = count_even_numbers(number_list)\n",
        "    print(f\"✅ Total even numbers: {count}\")\n",
        "    print(f\"Even numbers: {evens}\")\n",
        "\n",
        "if __name__ == \"__main__\":\n",
        "    main()"
      ],
      "metadata": {
        "colab": {
          "base_uri": "https://localhost:8080/"
        },
        "id": "n-mS4dEOI4ex",
        "outputId": "87d23ef7-8c98-4c6b-f012-2a4f204b154a"
      },
      "execution_count": 5,
      "outputs": [
        {
          "output_type": "stream",
          "name": "stdout",
          "text": [
            "02_count_even\n",
            "Enter numbers separated by commas:\n",
            "→ 56,23,12,45,67,89,55,44,33,23,45556,78\n",
            "✅ Total even numbers: 5\n",
            "Even numbers: [56, 12, 44, 45556, 78]\n"
          ]
        }
      ]
    },
    {
      "cell_type": "code",
      "source": [
        "print(\"04_double\")\n",
        "\n",
        "def double_numbers(numbers):\n",
        "    return [num * 2 for num in numbers]\n",
        "\n",
        "def main():\n",
        "    print(\"Enter numbers separated by commas to double them:\")\n",
        "    user_input = input(\"→ \")\n",
        "\n",
        "    try:\n",
        "        number_list = [int(num.strip()) for num in user_input.split(\",\")]\n",
        "    except ValueError:\n",
        "        print(\"❌ Invalid input! Please enter integers only.\")\n",
        "        return\n",
        "\n",
        "    doubled = double_numbers(number_list)\n",
        "    print(f\"✅ Doubled numbers: {doubled}\")\n",
        "\n",
        "if __name__ == \"__main__\":\n",
        "    main()"
      ],
      "metadata": {
        "colab": {
          "base_uri": "https://localhost:8080/"
        },
        "id": "QhDSTZf3JAk_",
        "outputId": "5ca9ea2e-e4fe-4eaf-d8f0-03b834075ccb"
      },
      "execution_count": 6,
      "outputs": [
        {
          "output_type": "stream",
          "name": "stdout",
          "text": [
            "04_double\n",
            "Enter numbers separated by commas to double them:\n",
            "→  2,4,6,8,0,12,34\n",
            "✅ Doubled numbers: [4, 8, 12, 16, 0, 24, 68]\n"
          ]
        }
      ]
    },
    {
      "cell_type": "code",
      "source": [
        "print(\"05_get_name\")\n",
        "\n",
        "def get_name():\n",
        "    name = input(\"👋 What's your name? → \").strip()\n",
        "\n",
        "    if not name:\n",
        "        print(\"⚠️ You didn't enter a name!\")\n",
        "    else:\n",
        "        print(f\"🎉 Hello, {name}! Nice to meet you!\")\n",
        "\n",
        "def main():\n",
        "    get_name()\n",
        "\n",
        "if __name__ == \"__main__\":\n",
        "    main()\n",
        ""
      ],
      "metadata": {
        "colab": {
          "base_uri": "https://localhost:8080/"
        },
        "id": "I-dCM6GVJUJr",
        "outputId": "076c6dcd-1512-4216-a529-dbdffe1b25d9"
      },
      "execution_count": 7,
      "outputs": [
        {
          "output_type": "stream",
          "name": "stdout",
          "text": [
            "05_get_name\n",
            "👋 What's your name? → sohail\n",
            "🎉 Hello, sohail! Nice to meet you!\n"
          ]
        }
      ]
    },
    {
      "cell_type": "code",
      "source": [
        "print(\"06_is_odd\")\n",
        "\n",
        "def is_odd(number):\n",
        "    return number % 2 != 0\n",
        "\n",
        "def main():\n",
        "    try:\n",
        "        num = int(input(\"🔢 Enter a number to check if it's odd: → \"))\n",
        "    except ValueError:\n",
        "        print(\"❌ Invalid input! Please enter a valid integer.\")\n",
        "        return\n",
        "\n",
        "    if is_odd(num):\n",
        "        print(f\"✅ {num} is an odd number.\")\n",
        "    else:\n",
        "        print(f\"❌ {num} is not an odd number (it's even).\")\n",
        "\n",
        "if __name__ == \"__main__\":\n",
        "    main()"
      ],
      "metadata": {
        "colab": {
          "base_uri": "https://localhost:8080/"
        },
        "id": "_PfpAKFXJcRf",
        "outputId": "bd109e2c-7035-4ccc-967e-b724071f752e"
      },
      "execution_count": 8,
      "outputs": [
        {
          "output_type": "stream",
          "name": "stdout",
          "text": [
            "06_is_odd\n",
            "🔢 Enter a number to check if it's odd: → 37\n",
            "✅ 37 is an odd number.\n"
          ]
        }
      ]
    },
    {
      "cell_type": "code",
      "source": [
        "print(\"07_print_divisor\")\n",
        "\n",
        "def print_divisors(n):\n",
        "    print(f\"🔍 Divisors of {n} are:\")\n",
        "    for i in range(1, n + 1):\n",
        "        if n % i == 0:\n",
        "            print(f\"➤ {i}\")\n",
        "\n",
        "def main():\n",
        "    try:\n",
        "        num = int(input(\"🔢 Enter a number to find its divisors: → \"))\n",
        "        if num <= 0:\n",
        "            print(\"⚠️ Please enter a positive integer greater than 0.\")\n",
        "            return\n",
        "    except ValueError:\n",
        "        print(\"❌ Invalid input! Please enter a valid number.\")\n",
        "        return\n",
        "\n",
        "    print_divisors(num)\n",
        "\n",
        "if __name__ == \"__main__\":\n",
        "    main()"
      ],
      "metadata": {
        "colab": {
          "base_uri": "https://localhost:8080/"
        },
        "id": "WSXNoI6bJpnR",
        "outputId": "1642c2df-78bc-4242-9e2f-e35feac52741"
      },
      "execution_count": 9,
      "outputs": [
        {
          "output_type": "stream",
          "name": "stdout",
          "text": [
            "07_print_divisor\n",
            "🔢 Enter a number to find its divisors: → 34\n",
            "🔍 Divisors of 34 are:\n",
            "➤ 1\n",
            "➤ 2\n",
            "➤ 17\n",
            "➤ 34\n"
          ]
        }
      ]
    },
    {
      "cell_type": "code",
      "source": [
        "print(\"08_print_multiple\")\n",
        "\n",
        "def print_multiples(n, count):\n",
        "    print(f\"🧮 First {count} multiples of {n} are:\")\n",
        "    for i in range(1, count + 1):\n",
        "        print(f\"➤ {n} × {i} = {n * i}\")\n",
        "\n",
        "def main():\n",
        "    try:\n",
        "        num = int(input(\"🔢 Enter a number to find its multiples: → \"))\n",
        "        count = int(input(\"🔁 How many multiples do you want to see? → \"))\n",
        "        if num <= 0 or count <= 0:\n",
        "            print(\"⚠️ Please enter positive numbers only.\")\n",
        "            return\n",
        "    except ValueError:\n",
        "        print(\"❌ Invalid input! Please enter integers only.\")\n",
        "        return\n",
        "\n",
        "    print_multiples(num, count)\n",
        "\n",
        "if __name__ == \"__main__\":\n",
        "    main()"
      ],
      "metadata": {
        "colab": {
          "base_uri": "https://localhost:8080/"
        },
        "id": "-T6b8pkfKeEh",
        "outputId": "f4951ede-a3b8-49bf-c056-13e77e5598ce"
      },
      "execution_count": 10,
      "outputs": [
        {
          "output_type": "stream",
          "name": "stdout",
          "text": [
            "08_print_multiple\n",
            "🔢 Enter a number to find its multiples: → 21\n",
            "🔁 How many multiples do you want to see? → 17\n",
            "🧮 First 17 multiples of 21 are:\n",
            "➤ 21 × 1 = 21\n",
            "➤ 21 × 2 = 42\n",
            "➤ 21 × 3 = 63\n",
            "➤ 21 × 4 = 84\n",
            "➤ 21 × 5 = 105\n",
            "➤ 21 × 6 = 126\n",
            "➤ 21 × 7 = 147\n",
            "➤ 21 × 8 = 168\n",
            "➤ 21 × 9 = 189\n",
            "➤ 21 × 10 = 210\n",
            "➤ 21 × 11 = 231\n",
            "➤ 21 × 12 = 252\n",
            "➤ 21 × 13 = 273\n",
            "➤ 21 × 14 = 294\n",
            "➤ 21 × 15 = 315\n",
            "➤ 21 × 16 = 336\n",
            "➤ 21 × 17 = 357\n"
          ]
        }
      ]
    },
    {
      "cell_type": "code",
      "source": [
        "import random\n",
        "\n",
        "print(\"09_sentence_generator\")\n",
        "# Word lists\n",
        "nouns = [\"cat\", \"boy\", \"girl\", \"dog\", \"robot\"]\n",
        "verbs = [\"eats\", \"plays with\", \"runs to\", \"looks at\", \"builds\"]\n",
        "places = [\"the park\", \"school\", \"home\", \"the moon\", \"a castle\"]\n",
        "\n",
        "def generate_sentence():\n",
        "    noun = random.choice(nouns)\n",
        "    verb = random.choice(verbs)\n",
        "    place = random.choice(places)\n",
        "    return f\"The {noun} {verb} {place}.\"\n",
        "\n",
        "def main():\n",
        "    try:\n",
        "        count = int(input(\"📄 How many sentences do you want to generate? → \"))\n",
        "        if count <= 0:\n",
        "            print(\"⚠️ Please enter a positive number.\")\n",
        "            return\n",
        "    except ValueError:\n",
        "        print(\"❌ Invalid input! Please enter a valid number.\")\n",
        "        return\n",
        "\n",
        "    print(\"\\n📝 Generated Sentences:\")\n",
        "    for _ in range(count):\n",
        "        print(\"➤\", generate_sentence())\n",
        "\n",
        "if __name__ == \"__main__\":\n",
        "    main()"
      ],
      "metadata": {
        "colab": {
          "base_uri": "https://localhost:8080/"
        },
        "id": "ELoeJKzfKtXN",
        "outputId": "2ad57684-38a3-4627-9ea9-fcc6f4490e98"
      },
      "execution_count": 11,
      "outputs": [
        {
          "output_type": "stream",
          "name": "stdout",
          "text": [
            "09_sentence_generator\n",
            "📄 How many sentences do you want to generate? → 5\n",
            "\n",
            "📝 Generated Sentences:\n",
            "➤ The dog plays with home.\n",
            "➤ The robot plays with school.\n",
            "➤ The boy looks at school.\n",
            "➤ The boy looks at the moon.\n",
            "➤ The cat eats the park.\n"
          ]
        }
      ]
    },
    {
      "cell_type": "code",
      "source": [
        "print(\"10_print_ones_digit\")\n",
        "\n",
        "def get_ones_digit(number):\n",
        "    return abs(number) % 10  # Negative number handle karne ke liye abs()\n",
        "\n",
        "def main():\n",
        "    try:\n",
        "        num = int(input(\"🔢 Enter a number: → \"))\n",
        "    except ValueError:\n",
        "        print(\"❌ Please enter a valid integer.\")\n",
        "        return\n",
        "\n",
        "    ones_digit = get_ones_digit(num)\n",
        "    print(f\"🧮 The ones digit of {num} is: {ones_digit}\")\n",
        "\n",
        "if __name__ == \"__main__\":\n",
        "    main()\n"
      ],
      "metadata": {
        "colab": {
          "base_uri": "https://localhost:8080/"
        },
        "id": "Roj6OuSXK52o",
        "outputId": "b65d6694-0445-4126-ad39-1ee7170aaf55"
      },
      "execution_count": 12,
      "outputs": [
        {
          "output_type": "stream",
          "name": "stdout",
          "text": [
            "10_print_ones_digit\n",
            "🔢 Enter a number: → 567743\n",
            "🧮 The ones digit of 567743 is: 3\n"
          ]
        }
      ]
    },
    {
      "cell_type": "code",
      "source": [],
      "metadata": {
        "id": "HxwpRjDWLHR5"
      },
      "execution_count": null,
      "outputs": []
    }
  ]
}