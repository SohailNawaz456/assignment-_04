{
  "nbformat": 4,
  "nbformat_minor": 0,
  "metadata": {
    "colab": {
      "provenance": [],
      "authorship_tag": "ABX9TyMV27cJrJGAydeffMsJtDaJ",
      "include_colab_link": true
    },
    "kernelspec": {
      "name": "python3",
      "display_name": "Python 3"
    },
    "language_info": {
      "name": "python"
    }
  },
  "cells": [
    {
      "cell_type": "markdown",
      "metadata": {
        "id": "view-in-github",
        "colab_type": "text"
      },
      "source": [
        "<a href=\"https://colab.research.google.com/github/SohailNawaz456/assignment-_04/blob/main/00_intro_python.ipynb\" target=\"_parent\"><img src=\"https://colab.research.google.com/assets/colab-badge.svg\" alt=\"Open In Colab\"/></a>"
      ]
    },
    {
      "cell_type": "code",
      "execution_count": 4,
      "metadata": {
        "colab": {
          "base_uri": "https://localhost:8080/"
        },
        "id": "FhdxUwNNghYE",
        "outputId": "27a7cc3f-fa25-43e2-8fc9-b3e04b418a5a"
      },
      "outputs": [
        {
          "output_type": "stream",
          "name": "stdout",
          "text": [
            "This program adds two numbers.\n",
            "Enter first number: 20\n",
            "Enter second number: 20\n",
            "The total sum is 40.\n"
          ]
        }
      ],
      "source": [
        "def main():\n",
        "    print(\"This program adds two numbers.\")\n",
        "\n",
        "    # Taking two number inputs with proper type conversion\n",
        "    num1: int = int(input(\"Enter first number: \"))\n",
        "    num2: int = int(input(\"Enter second number: \"))\n",
        "\n",
        "    # Calculating the sum\n",
        "    total: int = num1 + num2\n",
        "\n",
        "    # Displaying the result\n",
        "    print(f\"The total sum is {total}.\")\n",
        "\n",
        "# This provided line is required at the end of the Python file to call the main() function.\n",
        "if __name__ == '__main__':\n",
        "    main()\n"
      ]
    },
    {
      "cell_type": "code",
      "source": [
        "def main():\n",
        "    # Asking the user for their favorite animal\n",
        "    favorite_animal: str = input(\"What's your favorite animal? \").strip().lower()\n",
        "\n",
        "    # Responding to the user\n",
        "    if favorite_animal == \"cow\":\n",
        "        print(\"My favorite animal is also a cow!\")\n",
        "    else:\n",
        "        print(f\"Nice! {favorite_animal.capitalize()} is a great animal too!\")\n",
        "\n",
        "# This provided line is required at the end of the Python file to call the main() function.\n",
        "if __name__ == '__main__':\n",
        "    main()\n"
      ],
      "metadata": {
        "colab": {
          "base_uri": "https://localhost:8080/"
        },
        "id": "eDHZXjzgseUu",
        "outputId": "4aae24a0-a2f5-4ee9-e2aa-9d28da1d47df"
      },
      "execution_count": 5,
      "outputs": [
        {
          "output_type": "stream",
          "name": "stdout",
          "text": [
            "What's your favorite animal? dog\n",
            "Nice! Dog is a great animal too!\n"
          ]
        }
      ]
    },
    {
      "cell_type": "code",
      "source": [
        "def main():\n",
        "    # Prompt the user to enter a temperature in Fahrenheit\n",
        "    degrees_fahrenheit: float = float(input(\"Enter temperature in Fahrenheit: \"))\n",
        "\n",
        "    # Convert Fahrenheit to Celsius\n",
        "    degrees_celsius: float = (degrees_fahrenheit - 32) * 5.0 / 9.0\n",
        "\n",
        "    # Display the result\n",
        "    print(f\"Temperature: {degrees_fahrenheit:.1f}F = {degrees_celsius:.2f}C\")\n",
        "\n",
        "# This provided line is required at the end of the Python file to call the main() function.\n",
        "if __name__ == '__main__':\n",
        "    main()\n"
      ],
      "metadata": {
        "colab": {
          "base_uri": "https://localhost:8080/"
        },
        "id": "e1q97dQ6soQY",
        "outputId": "9947cbd1-ba62-425c-9478-4a85c7b4cd73"
      },
      "execution_count": 6,
      "outputs": [
        {
          "output_type": "stream",
          "name": "stdout",
          "text": [
            "Enter temperature in Fahrenheit: 10.5\n",
            "Temperature: 10.5F = -11.94C\n"
          ]
        }
      ]
    },
    {
      "cell_type": "code",
      "source": [
        "def main():\n",
        "    # Storing the ages in variables\n",
        "    anton: int = 21\n",
        "    beth: int = anton + 6\n",
        "    chen: int = beth + 20\n",
        "    drew: int = chen + anton\n",
        "    ethan: int = chen\n",
        "\n",
        "    # Printing the names and ages\n",
        "    print(f\"Anton is {anton}\")\n",
        "    print(f\"Beth is {beth}\")\n",
        "    print(f\"Chen is {chen}\")\n",
        "    print(f\"Drew is {drew}\")\n",
        "    print(f\"Ethan is {ethan}\")\n",
        "\n",
        "# This provided line is required at the end of the Python file to call the main() function.\n",
        "if __name__ == '__main__':\n",
        "    main()\n"
      ],
      "metadata": {
        "colab": {
          "base_uri": "https://localhost:8080/"
        },
        "id": "0JtlzTBXtQva",
        "outputId": "5f44773c-d08e-4405-d5bb-848f9163efe5"
      },
      "execution_count": 11,
      "outputs": [
        {
          "output_type": "stream",
          "name": "stdout",
          "text": [
            "Anton is 21\n",
            "Beth is 27\n",
            "Chen is 47\n",
            "Drew is 68\n",
            "Ethan is 47\n"
          ]
        }
      ]
    },
    {
      "cell_type": "code",
      "source": [
        "def main():\n",
        "    # Get the 3 side lengths of the triangle from the user\n",
        "    side1 = float(input(\"What is the length of side 1? \"))\n",
        "    side2 = float(input(\"What is the length of side 2? \"))\n",
        "    side3 = float(input(\"What is the length of side 3? \"))\n",
        "\n",
        "    # Calculate the perimeter of the triangle\n",
        "    perimeter = side1 + side2 + side3\n",
        "\n",
        "    # Print the perimeter of the triangle\n",
        "    print(f\"The perimeter of the triangle is {perimeter}\")\n",
        "\n",
        "# This provided line is required at the end of the Python file to call the main() function.\n",
        "if __name__ == '__main__':\n",
        "    main()\n"
      ],
      "metadata": {
        "colab": {
          "base_uri": "https://localhost:8080/"
        },
        "id": "aOJtuEDnuiVX",
        "outputId": "8b018af6-6341-44f1-fe6d-7ebe0a5b3789"
      },
      "execution_count": 12,
      "outputs": [
        {
          "output_type": "stream",
          "name": "stdout",
          "text": [
            "What is the length of side 1? 3\n",
            "What is the length of side 2? 4\n",
            "What is the length of side 3? 5.5\n",
            "The perimeter of the triangle is 12.5\n"
          ]
        }
      ]
    },
    {
      "cell_type": "code",
      "source": [
        "def main():\n",
        "    # Prompt the user for a number\n",
        "    num = float(input(\"Type a number to see its square: \"))\n",
        "\n",
        "    # Calculate the square of the number\n",
        "    square = num ** 2\n",
        "\n",
        "    # Print the result using an f-string for better readability\n",
        "    print(f\"{num} squared is {square}\")\n",
        "\n",
        "# This provided line is required at the end of the Python file to call the main() function.\n",
        "if __name__ == '__main__':\n",
        "    main()\n"
      ],
      "metadata": {
        "colab": {
          "base_uri": "https://localhost:8080/"
        },
        "id": "rGZHsQsevHo9",
        "outputId": "27a7fb5e-7f49-4d09-a8c3-04d3c89b176e"
      },
      "execution_count": 13,
      "outputs": [
        {
          "output_type": "stream",
          "name": "stdout",
          "text": [
            "Type a number to see its square: 4\n",
            "4.0 squared is 16.0\n"
          ]
        }
      ]
    }
  ]
}