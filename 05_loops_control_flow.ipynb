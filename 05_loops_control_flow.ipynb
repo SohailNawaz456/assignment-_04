{
  "nbformat": 4,
  "nbformat_minor": 0,
  "metadata": {
    "colab": {
      "provenance": [],
      "authorship_tag": "ABX9TyMp+eHY7U8PIZWMsEAIQvbD",
      "include_colab_link": true
    },
    "kernelspec": {
      "name": "python3",
      "display_name": "Python 3"
    },
    "language_info": {
      "name": "python"
    }
  },
  "cells": [
    {
      "cell_type": "markdown",
      "metadata": {
        "id": "view-in-github",
        "colab_type": "text"
      },
      "source": [
        "<a href=\"https://colab.research.google.com/github/SohailNawaz456/assignment-_04/blob/main/05_loops_control_flow.ipynb\" target=\"_parent\"><img src=\"https://colab.research.google.com/assets/colab-badge.svg\" alt=\"Open In Colab\"/></a>"
      ]
    },
    {
      "cell_type": "code",
      "execution_count": null,
      "metadata": {
        "colab": {
          "base_uri": "https://localhost:8080/"
        },
        "id": "Ps1fQGzD1YaN",
        "outputId": "d3c0aac3-989c-42c6-a9d6-edeb04274f4c"
      },
      "outputs": [
        {
          "output_type": "stream",
          "name": "stdout",
          "text": [
            "00_guess_my_number.\n",
            "I am thinking of a number between 1 and 100....\n",
            "Enter a guess: 20\n",
            "Your guess is too low.\n",
            "Enter a guess: 35\n",
            "Congratulations! The number was 35.\n",
            "You guessed it in 2 attempts.\n"
          ]
        }
      ],
      "source": [
        "import random\n",
        "\n",
        "print(\"00_guess_my_number.\")\n",
        "\n",
        "def main():\n",
        "    secret_number = random.randint(1, 100)\n",
        "    print(\"I am thinking of a number between 1 and 100....\")\n",
        "\n",
        "    guess = None\n",
        "    attempts = 0  # To count the number of attempts\n",
        "    max_attempts = 5  # Maximum number of guesses allowed\n",
        "\n",
        "    while guess != secret_number and attempts < max_attempts:\n",
        "        guess = int(input(\"Enter a guess: \"))\n",
        "        attempts += 1  # Increment the attempts\n",
        "\n",
        "        if guess < secret_number:\n",
        "            print(\"Your guess is too low.\")\n",
        "        elif guess > secret_number:\n",
        "            print(\"Your guess is too high.\")\n",
        "\n",
        "    if guess == secret_number:\n",
        "        print(f\"Congratulations! The number was {secret_number}.\")\n",
        "        print(f\"You guessed it in {attempts} attempts.\")\n",
        "    else:\n",
        "        print(f\"Sorry! You've used all {max_attempts} attempts. The number was {secret_number}.\")\n",
        "\n",
        "if __name__ == \"__main__\":\n",
        "    main()\n"
      ]
    },
    {
      "cell_type": "code",
      "source": [
        "print(\"01_fibonacci\")\n",
        "\n",
        "max_value = 10000\n",
        "\n",
        "def main():\n",
        "  a,b = 0,1\n",
        "  print(a,b, end = \" \")\n",
        "\n",
        "  while True:\n",
        "    c = a+b\n",
        "    if c >= max_value:\n",
        "      break\n",
        "    print(c, end=\" \")\n",
        "    a,b = b,c\n",
        "\n",
        "if __name__ == \"__main__\":\n",
        "  main()"
      ],
      "metadata": {
        "colab": {
          "base_uri": "https://localhost:8080/"
        },
        "id": "1ZzHkYfd2blT",
        "outputId": "f7777b5b-c28e-4967-ef29-370769bbd10d"
      },
      "execution_count": null,
      "outputs": [
        {
          "output_type": "stream",
          "name": "stdout",
          "text": [
            "01_fibonacci\n",
            "0 1 1 2 3 5 8 13 21 34 55 89 144 233 377 610 987 1597 2584 4181 6765 "
          ]
        }
      ]
    },
    {
      "cell_type": "code",
      "source": [
        "print(\"02_print_events\")\n",
        "\n",
        "def main():\n",
        "  for i in range(20):\n",
        "    print(i*2)\n",
        "\n",
        "if __name__ == \"__main__\":\n",
        "  main()"
      ],
      "metadata": {
        "id": "otVShYCZ2ljp",
        "colab": {
          "base_uri": "https://localhost:8080/"
        },
        "outputId": "fc72cabb-b2af-4b52-bb9a-94b89c0626b3"
      },
      "execution_count": 4,
      "outputs": [
        {
          "output_type": "stream",
          "name": "stdout",
          "text": [
            "02_print_events\n",
            "0\n",
            "2\n",
            "4\n",
            "6\n",
            "8\n",
            "10\n",
            "12\n",
            "14\n",
            "16\n",
            "18\n",
            "20\n",
            "22\n",
            "24\n",
            "26\n",
            "28\n",
            "30\n",
            "32\n",
            "34\n",
            "36\n",
            "38\n"
          ]
        }
      ]
    },
    {
      "cell_type": "code",
      "source": [
        "print(\"03_wholesome_machine\")\n",
        "\n",
        "correct_affermation = \"I am capable of doing anything. I put my mind too.\"\n",
        "\n",
        "def main():\n",
        "  print(\"Welcome to the Wholesome Machine\")\n",
        "  while True:\n",
        "    user_input = input(\"Please type the following affermation:\" + correct_affermation)\n",
        "    if user_input == correct_affermation:\n",
        "      print(\"That\\'s right! \")\n",
        "      break\n",
        "    else:\n",
        "      print(\"Hmmm That was not the affermation. Please Try Again!\")\n",
        "\n",
        "if __name__ == \"__main__\":\n",
        "  main()"
      ],
      "metadata": {
        "colab": {
          "base_uri": "https://localhost:8080/"
        },
        "id": "cvZDxZqCB0I9",
        "outputId": "084bf397-429c-4114-dd3d-dcb34288856d"
      },
      "execution_count": 6,
      "outputs": [
        {
          "output_type": "stream",
          "name": "stdout",
          "text": [
            "03_wholesome_machine\n",
            "Welcome to the Wholesome Machine\n",
            "Please type the following affermation:I am capable of doing anything. I put my mind too.ok\n",
            "Hmmm That was not the affermation. Please Try Again!\n",
            "Please type the following affermation:I am capable of doing anything. I put my mind too.I am capable of doing anything. I put my mind too.\n",
            "That's right! \n"
          ]
        }
      ]
    },
    {
      "cell_type": "code",
      "source": [
        "import time\n",
        "\n",
        "print(\"04_liftoff\")\n",
        "\n",
        "def main():\n",
        "    for i in range(10, 0, -1):\n",
        "        print(i, end=\" \", flush=True)  # Use flush=True to update the output immediately\n",
        "        time.sleep(1)  # Add a 1-second delay for each countdown\n",
        "    print(\"Liftoff! 🚀\")\n",
        "\n",
        "if __name__ == \"__main__\":\n",
        "    main()"
      ],
      "metadata": {
        "colab": {
          "base_uri": "https://localhost:8080/"
        },
        "id": "cc02TkDNCiwI",
        "outputId": "89a73b11-909b-4f0a-9067-a50ddead68df"
      },
      "execution_count": 7,
      "outputs": [
        {
          "output_type": "stream",
          "name": "stdout",
          "text": [
            "04_liftoff\n",
            "10 9 8 7 6 5 4 3 2 1 Liftoff! 🚀\n"
          ]
        }
      ]
    },
    {
      "cell_type": "code",
      "source": [
        "print(\"05_double_it\")\n",
        "\n",
        "def main():\n",
        "    user_value = int(input(\"Enter a number: \"))\n",
        "\n",
        "    while user_value < 100:\n",
        "        user_value *= 2  # Double the value\n",
        "        print(f\"Doubled value: {user_value}\")\n",
        "\n",
        "    print(\"Final value is 100 or greater, stopping.\")\n",
        "\n",
        "if __name__ == \"__main__\":\n",
        "    main()"
      ],
      "metadata": {
        "colab": {
          "base_uri": "https://localhost:8080/"
        },
        "id": "6fugACryC78m",
        "outputId": "b15f73a5-dee4-4578-90ac-9455a19e5468"
      },
      "execution_count": 11,
      "outputs": [
        {
          "output_type": "stream",
          "name": "stdout",
          "text": [
            "05_double_it\n",
            "Enter a number: 25\n",
            "Doubled value: 50\n",
            "Doubled value: 100\n",
            "Final value is 100 or greater, stopping.\n"
          ]
        }
      ]
    }
  ]
}