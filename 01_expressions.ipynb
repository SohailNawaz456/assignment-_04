{
  "nbformat": 4,
  "nbformat_minor": 0,
  "metadata": {
    "colab": {
      "provenance": [],
      "authorship_tag": "ABX9TyM0WyjXkF/4D2igFLuJHI8t",
      "include_colab_link": true
    },
    "kernelspec": {
      "name": "python3",
      "display_name": "Python 3"
    },
    "language_info": {
      "name": "python"
    }
  },
  "cells": [
    {
      "cell_type": "markdown",
      "metadata": {
        "id": "view-in-github",
        "colab_type": "text"
      },
      "source": [
        "<a href=\"https://colab.research.google.com/github/SohailNawaz456/assignment-_04/blob/main/01_expressions.ipynb\" target=\"_parent\"><img src=\"https://colab.research.google.com/assets/colab-badge.svg\" alt=\"Open In Colab\"/></a>"
      ]
    },
    {
      "cell_type": "code",
      "execution_count": 1,
      "metadata": {
        "colab": {
          "base_uri": "https://localhost:8080/"
        },
        "id": "nLT04VJ_yMpR",
        "outputId": "e8b9a285-6290-4069-95aa-1d0b8fbd0092"
      },
      "outputs": [
        {
          "output_type": "stream",
          "name": "stdout",
          "text": [
            "die1 in main() starts as: 10\n",
            "Rolled: 4 + 2 = 6\n",
            "Rolled: 6 + 1 = 7\n",
            "Rolled: 1 + 1 = 2\n",
            "die1 in main() is: 10\n"
          ]
        }
      ],
      "source": [
        "\"\"\"\n",
        "Program: Dice Simulator\n",
        "-----------------------\n",
        "Simulates rolling two dice three times and prints\n",
        "the results of each roll. Demonstrates variable scope in Python.\n",
        "\"\"\"\n",
        "\n",
        "import random  # Import the random library to generate random numbers\n",
        "\n",
        "# Number of sides on each die\n",
        "NUM_SIDES = 6\n",
        "\n",
        "def roll_dice():\n",
        "    \"\"\"\n",
        "    Simulates rolling two dice and prints their total.\n",
        "    \"\"\"\n",
        "    die1 = random.randint(1, NUM_SIDES)\n",
        "    die2 = random.randint(1, NUM_SIDES)\n",
        "    total = die1 + die2\n",
        "    print(f\"Rolled: {die1} + {die2} = {total}\")  # Improved output format\n",
        "\n",
        "def main():\n",
        "    die1 = 10  # Local variable in main()\n",
        "    print(f\"die1 in main() starts as: {die1}\")\n",
        "\n",
        "    # Roll the dice three times\n",
        "    for _ in range(3):\n",
        "        roll_dice()\n",
        "\n",
        "    print(f\"die1 in main() is: {die1}\")  # Checking variable scope\n",
        "\n",
        "# This provided line is required at the end of the Python file\n",
        "if __name__ == '__main__':\n",
        "    main()\n"
      ]
    },
    {
      "cell_type": "code",
      "source": [
        "\"\"\"\n",
        "Program: Mass-Energy Equivalence\n",
        "--------------------------------\n",
        "This program calculates the energy (E) using Einstein's formula:\n",
        "\n",
        "    E = m * C^2\n",
        "\n",
        "where:\n",
        "    - E = energy in joules\n",
        "    - m = mass in kilograms (user input)\n",
        "    - C = speed of light (constant: 299,792,458 m/s)\n",
        "\n",
        "Author: [Your Name]\n",
        "\"\"\"\n",
        "\n",
        "# Define the speed of light as a constant\n",
        "C = 299_792_458  # m/s (underscores improve readability)\n",
        "\n",
        "def main():\n",
        "    \"\"\"\n",
        "    Reads mass from the user and calculates the equivalent energy.\n",
        "    \"\"\"\n",
        "    # Get mass input from user\n",
        "    mass_in_kg = float(input(\"Enter kilos of mass: \"))\n",
        "\n",
        "    # Compute energy using Einstein's equation\n",
        "    energy_in_joules = mass_in_kg * (C ** 2)\n",
        "\n",
        "    # Display calculation breakdown\n",
        "    print(\"\\ne = m * C^2...\")\n",
        "    print(f\"m = {mass_in_kg} kg\")\n",
        "    print(f\"C = {C} m/s\")\n",
        "\n",
        "    # Output the final result in scientific notation\n",
        "    print(f\"{energy_in_joules:.2e} joules of energy!\")\n",
        "\n",
        "# Call the main function if the script is run directly\n",
        "if __name__ == '__main__':\n",
        "    main()\n"
      ],
      "metadata": {
        "colab": {
          "base_uri": "https://localhost:8080/"
        },
        "id": "Sj6nK-FHy36u",
        "outputId": "72b08123-ad2a-47ff-8297-7d002673412b"
      },
      "execution_count": 2,
      "outputs": [
        {
          "output_type": "stream",
          "name": "stdout",
          "text": [
            "Enter kilos of mass: 100\n",
            "\n",
            "e = m * C^2...\n",
            "m = 100.0 kg\n",
            "C = 299792458 m/s\n",
            "8.99e+18 joules of energy!\n"
          ]
        }
      ]
    },
    {
      "cell_type": "code",
      "source": [
        "\"\"\"\n",
        "Program: Feet to Inches Converter\n",
        "---------------------------------\n",
        "This program converts feet to inches.\n",
        "Conversion formula:\n",
        "\n",
        "    inches = feet * 12\n",
        "\n",
        "where:\n",
        "    - 1 foot = 12 inches (constant conversion factor)\n",
        "\n",
        "Author: [Sohail Nawaz]\n",
        "\"\"\"\n",
        "\n",
        "# Define the conversion factor as a constant\n",
        "INCHES_IN_FOOT = 12\n",
        "\n",
        "def main():\n",
        "    \"\"\"\n",
        "    Reads the number of feet from the user and converts it to inches.\n",
        "    \"\"\"\n",
        "    # Get user input for feet\n",
        "    feet = float(input(\"Enter number of feet: \"))\n",
        "\n",
        "    # Perform conversion\n",
        "    inches = feet * INCHES_IN_FOOT\n",
        "\n",
        "    # Display the result\n",
        "    print(f\"{feet} feet is equal to {inches} inches!\")\n",
        "\n",
        "# Call the main function if the script is run directly\n",
        "if __name__ == '__main__':\n",
        "    main()\n"
      ],
      "metadata": {
        "colab": {
          "base_uri": "https://localhost:8080/"
        },
        "id": "ZCkklwjCzYfs",
        "outputId": "00b6cc2e-ee88-4f16-f707-ee582cbd80c6"
      },
      "execution_count": 3,
      "outputs": [
        {
          "output_type": "stream",
          "name": "stdout",
          "text": [
            "Enter number of feet: 5\n",
            "5.0 feet is equal to 60.0 inches!\n"
          ]
        }
      ]
    },
    {
      "cell_type": "code",
      "source": [
        "\"\"\"\n",
        "Program: Right Triangle Hypotenuse Calculator\n",
        "---------------------------------------------\n",
        "This program calculates the length of the hypotenuse (BC)\n",
        "of a right triangle using the Pythagorean theorem:\n",
        "\n",
        "    BC² = AB² + AC²\n",
        "    BC = sqrt(AB² + AC²)\n",
        "\n",
        "where:\n",
        "    - AB and AC are the two perpendicular sides of the triangle.\n",
        "    - BC is the hypotenuse.\n",
        "\n",
        "Author: [Your Name]\n",
        "\"\"\"\n",
        "\n",
        "import math  # Import the math module for sqrt function\n",
        "\n",
        "def main():\n",
        "    \"\"\"\n",
        "    Reads the lengths of two perpendicular sides from the user and\n",
        "    calculates the length of the hypotenuse.\n",
        "    \"\"\"\n",
        "    # Get user input for the two perpendicular sides\n",
        "    ab = float(input(\"Enter the length of AB: \"))\n",
        "    ac = float(input(\"Enter the length of AC: \"))\n",
        "\n",
        "    # Calculate the hypotenuse using the Pythagorean theorem\n",
        "    bc = math.sqrt(ab**2 + ac**2)\n",
        "\n",
        "    # Display the result\n",
        "    print(f\"The length of BC (the hypotenuse) is: {bc:.2f}\")\n",
        "\n",
        "# Call the main function if the script is run directly\n",
        "if __name__ == '__main__':\n",
        "    main()\n"
      ],
      "metadata": {
        "colab": {
          "base_uri": "https://localhost:8080/"
        },
        "id": "4jDk58Tez6DZ",
        "outputId": "7c6fb2bf-d4ed-406a-8cf1-bf814e566520"
      },
      "execution_count": 4,
      "outputs": [
        {
          "output_type": "stream",
          "name": "stdout",
          "text": [
            "Enter the length of AB: 3\n",
            "Enter the length of AC: 4\n",
            "The length of BC (the hypotenuse) is: 5.00\n"
          ]
        }
      ]
    },
    {
      "cell_type": "code",
      "source": [
        "\"\"\"\n",
        "Program: Integer Division & Remainder Calculator\n",
        "------------------------------------------------\n",
        "This program asks the user for two integers and performs integer division.\n",
        "It then displays both the quotient and the remainder.\n",
        "\n",
        "Formula:\n",
        "    quotient = dividend // divisor\n",
        "    remainder = dividend % divisor\n",
        "\n",
        "Author: [Sohail Nawaz]\n",
        "\"\"\"\n",
        "\n",
        "def main():\n",
        "    \"\"\"\n",
        "    Reads two integers from the user, performs integer division,\n",
        "    and prints the quotient and remainder.\n",
        "    \"\"\"\n",
        "    # Get user input for the dividend and divisor\n",
        "    dividend = int(input(\"Please enter an integer to be divided: \"))\n",
        "    divisor = int(input(\"Please enter an integer to divide by: \"))\n",
        "\n",
        "    # Calculate quotient and remainder\n",
        "    quotient = dividend // divisor\n",
        "    remainder = dividend % divisor\n",
        "\n",
        "    # Display the result\n",
        "    print(f\"The result of this division is {quotient} with a remainder of {remainder}\")\n",
        "\n",
        "# Call the main function if the script is run directly\n",
        "if __name__ == '__main__':\n",
        "\n",
        "    main()\n"
      ],
      "metadata": {
        "colab": {
          "base_uri": "https://localhost:8080/"
        },
        "id": "aSE0gdx30XeR",
        "outputId": "df22b917-f3e4-4da9-9948-78a84a7a10ea"
      },
      "execution_count": 6,
      "outputs": [
        {
          "output_type": "stream",
          "name": "stdout",
          "text": [
            "Please enter an integer to be divided: 3\n",
            "Please enter an integer to divide by: 2\n",
            "The result of this division is 1 with a remainder of 1\n"
          ]
        }
      ]
    },
    {
      "cell_type": "code",
      "source": [
        "\"\"\"\n",
        "Program: Dice Rolling Simulator\n",
        "----------------------------------\n",
        "This program simulates rolling two six-sided dice.\n",
        "It prints the result of each roll and their total.\n",
        "\n",
        "Author: [Sohail Nawaz]\n",
        "\"\"\"\n",
        "\n",
        "import random  # Import the random module to generate random numbers\n",
        "\n",
        "# Constant for the number of sides on each die\n",
        "NUM_SIDES = 6\n",
        "\n",
        "def main():\n",
        "    \"\"\"\n",
        "    Rolls two dice, prints the values of each roll, and displays the total.\n",
        "    \"\"\"\n",
        "    # Roll each die (random number between 1 and NUM_SIDES)\n",
        "    die1 = random.randint(1, NUM_SIDES)\n",
        "    die2 = random.randint(1, NUM_SIDES)\n",
        "\n",
        "    # Calculate the total of both dice\n",
        "    total = die1 + die2\n",
        "\n",
        "    # Print the results\n",
        "    print(f\" Dice have {NUM_SIDES} sides each.\")\n",
        "    print(f\" First die: {die1}\")\n",
        "    print(f\" Second die: {die2}\")\n",
        "    print(f\" Total of two dice: {total}\")\n",
        "\n",
        "# Calls the main function when the script is run\n",
        "if __name__ == '__main__':\n",
        "    main()\n"
      ],
      "metadata": {
        "colab": {
          "base_uri": "https://localhost:8080/"
        },
        "id": "3MBXivYD1k_A",
        "outputId": "12184119-03fb-47d4-8db3-d7e6b9f66a4f"
      },
      "execution_count": 7,
      "outputs": [
        {
          "output_type": "stream",
          "name": "stdout",
          "text": [
            " Dice have 6 sides each.\n",
            " First die: 1\n",
            " Second die: 5\n",
            " Total of two dice: 6\n"
          ]
        }
      ]
    },
    {
      "cell_type": "code",
      "source": [
        "\"\"\"\n",
        "Program: Seconds in a Year Calculator\n",
        "----------------------------------------\n",
        "This program calculates the total number of seconds in a year\n",
        "using standard time conversions.\n",
        "\n",
        "Author: [Sohail Nawaz]\n",
        "\"\"\"\n",
        "\n",
        "# Constants for time calculations\n",
        "DAYS_PER_YEAR = 365\n",
        "HOURS_PER_DAY = 24\n",
        "MINUTES_PER_HOUR = 60\n",
        "SECONDS_PER_MINUTE = 60\n",
        "\n",
        "def main():\n",
        "    \"\"\"\n",
        "    Computes the total seconds in a year and prints the result.\n",
        "    \"\"\"\n",
        "    # Calculate total seconds in a year\n",
        "    total_seconds = DAYS_PER_YEAR * HOURS_PER_DAY * MINUTES_PER_HOUR * SECONDS_PER_MINUTE\n",
        "\n",
        "    # Display the result in a formatted statement\n",
        "    print(f\" There are {total_seconds:,} seconds in a year!\")\n",
        "\n",
        "# Calls the main function when the script is run\n",
        "if __name__ == '__main__':\n",
        "    main()\n"
      ],
      "metadata": {
        "colab": {
          "base_uri": "https://localhost:8080/"
        },
        "id": "9jX1rnqm2Dxi",
        "outputId": "74067a5d-1e99-42e8-dc00-1da3a6b1a79f"
      },
      "execution_count": 8,
      "outputs": [
        {
          "output_type": "stream",
          "name": "stdout",
          "text": [
            " There are 31,536,000 seconds in a year!\n"
          ]
        }
      ]
    },
    {
      "cell_type": "code",
      "source": [
        "\"\"\"\n",
        "Program: Mad Libs Fun Sentence Generator\n",
        "-------------------------------------------\n",
        "This program prompts the user for an adjective, a noun, and a verb,\n",
        "then constructs a humorous sentence using those words!\n",
        "\n",
        "Author: [Sohail Nawaz]\n",
        "\"\"\"\n",
        "\n",
        "# Constant sentence starter\n",
        "SENTENCE_START = \"Code in Place is fun. I learned to program and used Python to make my\"\n",
        "\n",
        "def main():\n",
        "    \"\"\"\n",
        "    Prompts the user for words and creates a fun sentence.\n",
        "    \"\"\"\n",
        "    # Get user inputs\n",
        "    adjective = input(\" Please type an adjective and press enter: \")\n",
        "    noun = input(\" Please type a noun and press enter: \")\n",
        "    verb = input(\" Please type a verb and press enter: \")\n",
        "\n",
        "    # Construct and print the sentence\n",
        "    print(f\"{SENTENCE_START} {adjective} {noun} {verb}!\")\n",
        "\n",
        "# Calls the main function when the script runs\n",
        "if __name__ == '__main__':\n",
        "    main()\n"
      ],
      "metadata": {
        "colab": {
          "base_uri": "https://localhost:8080/"
        },
        "id": "9uRGU54V2n27",
        "outputId": "a90204a8-4262-4804-efb5-164ae43996dd"
      },
      "execution_count": 9,
      "outputs": [
        {
          "output_type": "stream",
          "name": "stdout",
          "text": [
            " Please type an adjective and press enter:  tiny\n",
            " Please type a noun and press enter: plant\n",
            " Please type a verb and press enter: fly \n",
            "Code in Place is fun. I learned to program and used Python to make my  tiny plant fly !\n"
          ]
        }
      ]
    }
  ]
}